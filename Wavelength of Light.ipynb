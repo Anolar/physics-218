{
 "cells": [
  {
   "cell_type": "code",
   "execution_count": 7,
   "metadata": {},
   "outputs": [],
   "source": [
    "import numpy as np\n",
    "\n",
    "def rule4(Q, A, errA, expA, B, errB, expB):\n",
    "    \"\"\"\n",
    "    Q: The function that calculates the value that needs it's error determined.\n",
    "    A: The function that calculates the value for A\n",
    "    errA: The error in quantity A\n",
    "    expA: The power (exponent) of quantity A\n",
    "    ...and so on and so forth.\n",
    "    \"\"\"\n",
    "    errQ = np.abs(Q) * np.sqrt((expA*(errA/A))**2+(expB*(errB/B))**2)\n",
    "    return errQ"
   ]
  },
  {
   "cell_type": "code",
   "execution_count": 18,
   "metadata": {},
   "outputs": [
    {
     "name": "stdout",
     "output_type": "stream",
     "text": [
      "Patterns counted: 20.0 +/- 0.5 rings.\n",
      "Distance measurements: [6.5 6.  6.2 6.  6.2 6.5 6.  6.2 6.5 6. ] μm\n",
      "Average Distance: 6.2 +/- 0.1 μm.\n",
      "\n",
      "λ = 621.0 +/- 16.9 nm.\n"
     ]
    }
   ],
   "source": [
    "m = 20.0 # patterns\n",
    "dm = 0.5 # pattern\n",
    "d = np.array([6.5,6.0,6.2,6.0,6.2,6.5,6.0,6.2,6.5,6.0]) # micrometers\n",
    "davg = np.mean(d)\n",
    "errdavg = np.std(d)/np.sqrt(10)\n",
    "\n",
    "wl = ((2*davg)/m)*10**3 #nanometers\n",
    "errwl = rule4(wl,m,dm,1,davg,errdavg,1)\n",
    "\n",
    "print(\"Patterns counted:\",m,\"+/-\",dm,\"rings.\")\n",
    "print(\"Distance measurements:\",d,\"μm\")\n",
    "print(\"Average Distance:\",np.round(davg,1),\"+/-\",np.round(errdavg,1),\"μm.\\n\")\n",
    "print(\"λ =\",np.round(wl,1),\"+/-\",np.round(errwl,1),\"nm.\")"
   ]
  }
 ],
 "metadata": {
  "kernelspec": {
   "display_name": "Python 3",
   "language": "python",
   "name": "python3"
  },
  "language_info": {
   "codemirror_mode": {
    "name": "ipython",
    "version": 3
   },
   "file_extension": ".py",
   "mimetype": "text/x-python",
   "name": "python",
   "nbconvert_exporter": "python",
   "pygments_lexer": "ipython3",
   "version": "3.7.4"
  }
 },
 "nbformat": 4,
 "nbformat_minor": 2
}
