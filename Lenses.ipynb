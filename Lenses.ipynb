{
 "cells": [
  {
   "cell_type": "code",
   "execution_count": 12,
   "metadata": {},
   "outputs": [],
   "source": [
    "import numpy as np\n",
    "\n",
    "def rule3(errA, errB):\n",
    "    \"\"\"\n",
    "    If Q = A+B, errQ = sqrt(errA**2+errB**2)\n",
    "    errA: The error in quantity A\n",
    "    errB: The error in quantity B\n",
    "    \"\"\"\n",
    "    errQ = np.sqrt(errA**2+errB**2)\n",
    "    return errQ\n",
    "\n",
    "def rule4(Q, A, errA, expA):\n",
    "    \"\"\"\n",
    "    Q: The function that calculates the value that needs it's error determined.\n",
    "    A: The function that calculates the value for A\n",
    "    errA: The error in quantity A\n",
    "    expA: The power (exponent) of quantity A\n",
    "    ...and so on and so forth.\n",
    "    \"\"\"\n",
    "    errQ = np.abs(Q) * np.sqrt((expA*(errA/A))**2)\n",
    "    return errQ\n",
    "\n",
    "inf = 'inf'\n",
    "def fLen(p,i):\n",
    "    \"\"\"\n",
    "    p: The distance to the object in cm. Input 'inf' for infinity.\n",
    "    i: The distance to the image in cm.\n",
    "    \"\"\"\n",
    "    if p == inf:\n",
    "        f = 1/(1/i)\n",
    "    else:\n",
    "        f = 1/((1/p)+(1/i))\n",
    "    return f # cm\n",
    "\n",
    "def geti(f,p):\n",
    "    if p == inf:\n",
    "        i = 1/(1/f)\n",
    "    else:\n",
    "        i = 1/(1/f-1/p)\n",
    "    return i\n",
    "    \n",
    "erri = 1.0 # cm\n",
    "errp = 0.05 #cm"
   ]
  },
  {
   "cell_type": "markdown",
   "metadata": {},
   "source": [
    "# Part 1.1"
   ]
  },
  {
   "cell_type": "code",
   "execution_count": 13,
   "metadata": {},
   "outputs": [
    {
     "name": "stdout",
     "output_type": "stream",
     "text": [
      "The focal length is 14.3 +/- 1.0 cm.\n"
     ]
    }
   ],
   "source": [
    "f1 = fLen(inf,14.3)\n",
    "errf1 = erri #cm\n",
    "print(\"The focal length is\",np.round(f1,1),\"+/-\",errf1,\"cm.\")"
   ]
  },
  {
   "cell_type": "markdown",
   "metadata": {},
   "source": [
    "# Part 1.2"
   ]
  },
  {
   "cell_type": "code",
   "execution_count": 14,
   "metadata": {},
   "outputs": [
    {
     "name": "stdout",
     "output_type": "stream",
     "text": [
      "Second Focal Length:  15.6 +/- 1.0 cm.\n",
      "Third Focal Length:   14.6 +/- 1.0 cm.\n",
      "Fourth Focal Length:  14.3 +/- 1.0 cm.\n",
      "Average Focal Length: 14.8 +/- 0.3 cm.\n"
     ]
    }
   ],
   "source": [
    "f2 = fLen(60,21)\n",
    "errf2 = rule3(erri,errp)\n",
    "\n",
    "f3 = fLen(30,28.6)\n",
    "errf3 = rule3(erri,errp)\n",
    "\n",
    "f4 = fLen(22,41)\n",
    "errf4 = rule3(erri,errp)\n",
    "\n",
    "favg = np.mean([f2,f3,f4])\n",
    "err_favg = np.std([f2,f3,f4])/((3)**(1/2))\n",
    "\n",
    "print(\"Second Focal Length: \",np.round(f2,1),  \"+/-\",np.round(errf2,1),   \"cm.\")\n",
    "print(\"Third Focal Length:  \",np.round(f3,1),  \"+/-\",np.round(errf3,1),   \"cm.\")\n",
    "print(\"Fourth Focal Length: \",np.round(f4,1),  \"+/-\",np.round(errf4,1),   \"cm.\")\n",
    "print(\"Average Focal Length:\",np.round(favg,1),\"+/-\",np.round(err_favg,1),\"cm.\")"
   ]
  },
  {
   "cell_type": "markdown",
   "metadata": {},
   "source": [
    "# Part 2.1"
   ]
  },
  {
   "cell_type": "code",
   "execution_count": 15,
   "metadata": {},
   "outputs": [
    {
     "name": "stdout",
     "output_type": "stream",
     "text": [
      "Focal Length of the Diverging lens: -20.1 +/- 1.4 cm.\n"
     ]
    }
   ],
   "source": [
    "fd1 = 1/(1/57-1/favg)\n",
    "err_fd1 = rule3(erri,erri)\n",
    "\n",
    "print(\"Focal Length of the Diverging lens:\",np.round(fd1,1),\"+/-\",np.round(err_fd1,1),\"cm.\")"
   ]
  },
  {
   "cell_type": "markdown",
   "metadata": {},
   "source": [
    "# Part 2.2"
   ]
  },
  {
   "cell_type": "code",
   "execution_count": 21,
   "metadata": {},
   "outputs": [
    {
     "name": "stdout",
     "output_type": "stream",
     "text": [
      "Focal Length at 4.5cm: 35.6 +/- 1.7 cm.\n",
      "Focal Length at 8.0cm: 12.1 +/- 1.7 cm.\n"
     ]
    }
   ],
   "source": [
    "p1 = 60 # cm\n",
    "i1 = 19.2 # cm\n",
    "i2_1 = (115+23)-64.5 # cm\n",
    "i2_2 = 96.8-68 # cm\n",
    "erri2 = rule3(erri,erri)\n",
    "d1 = 4.5 # cm\n",
    "d2 = 8 # cm\n",
    "\n",
    "p2_1 = i2_1-d1\n",
    "errp2_1 = rule3(erri,errp)\n",
    "p2_2 = i2_2-d2\n",
    "errp2_2 = rule3(erri,errp)\n",
    "\n",
    "fd2 = fLen(p2_1,i2_1)\n",
    "errfd2 = rule3(errp2_1,erri2)\n",
    "\n",
    "fd3 = fLen(p2_2,i2_2)\n",
    "errfd3 = rule3(errp2_2,erri2)\n",
    "\n",
    "print(\"Focal Length at 4.5cm:\",np.round(fd2,1),\"+/-\",np.round(errfd2,1),\"cm.\")\n",
    "print(\"Focal Length at 8.0cm:\",np.round(fd3,1),\"+/-\",np.round(errfd3,1),\"cm.\")"
   ]
  }
 ],
 "metadata": {
  "kernelspec": {
   "display_name": "Python 3",
   "language": "python",
   "name": "python3"
  },
  "language_info": {
   "codemirror_mode": {
    "name": "ipython",
    "version": 3
   },
   "file_extension": ".py",
   "mimetype": "text/x-python",
   "name": "python",
   "nbconvert_exporter": "python",
   "pygments_lexer": "ipython3",
   "version": "3.7.4"
  }
 },
 "nbformat": 4,
 "nbformat_minor": 2
}
