{
 "cells": [
  {
   "cell_type": "code",
   "execution_count": 18,
   "metadata": {},
   "outputs": [],
   "source": [
    "import numpy as np\n",
    "\n",
    "def rule4(Q, A, errA, expA, B, errB, expB):\n",
    "    \"\"\"\n",
    "    Q: The function that calculates the value that needs it's error determined.\n",
    "    A: The function that calculates the value for A\n",
    "    errA: The error in quantity A\n",
    "    expA: The power (exponent) of quantity A\n",
    "    ...and so on and so forth.\n",
    "    \"\"\"\n",
    "    errQ = np.abs(Q) * np.sqrt((expA*(errA/A))**2+(expB*(errB/B))**2)\n",
    "    return errQ"
   ]
  },
  {
   "cell_type": "code",
   "execution_count": 23,
   "metadata": {},
   "outputs": [
    {
     "name": "stdout",
     "output_type": "stream",
     "text": [
      "Single Capacitor:\n",
      "\n",
      "t_half = 8.2e-05 +/- 1e-06 seconds.\n",
      "τ = 0.000118300993352895 +/- 1.4426950408889634e-06 seconds.\n"
     ]
    }
   ],
   "source": [
    "# Single Capacitor\n",
    "t_half = 0.082/1000 # Seconds\n",
    "err_t_half = 0.001/1000 # Seconds\n",
    "\n",
    "tau = t_half/np.log(2)# Seconds\n",
    "errTau = err_t_half/np.log(2) # Seconds\n",
    "\n",
    "print(\"Single Capacitor:\\n\")\n",
    "print(\"t_half =\",t_half,\"+/-\",err_t_half,\"seconds.\")\n",
    "print(\"τ =\",tau,\"+/-\",errTau,\"seconds.\")"
   ]
  },
  {
   "cell_type": "code",
   "execution_count": 24,
   "metadata": {},
   "outputs": [
    {
     "name": "stdout",
     "output_type": "stream",
     "text": [
      "Two Capacitors in Parallel:\n",
      "\n",
      "t_half = 0.00016 +/- 1e-05 seconds.\n",
      "τ = 0.00023083120654223416 +/- 1.4426950408889635e-05 seconds.\n"
     ]
    }
   ],
   "source": [
    "# Two Capacitors in Parallel\n",
    "t_half = 0.16/1000 # Seconds\n",
    "err_t_half = 0.01/1000 # Seconds\n",
    "\n",
    "tau = t_half/np.log(2)# Seconds\n",
    "errTau = err_t_half/np.log(2) # Seconds\n",
    "\n",
    "print(\"Two Capacitors in Parallel:\\n\")\n",
    "print(\"t_half =\",t_half,\"+/-\",err_t_half,\"seconds.\")\n",
    "print(\"τ =\",tau,\"+/-\",errTau,\"seconds.\")"
   ]
  },
  {
   "cell_type": "code",
   "execution_count": 27,
   "metadata": {},
   "outputs": [
    {
     "name": "stdout",
     "output_type": "stream",
     "text": [
      "Two Capacitors in Series:\n",
      "\n",
      "t_half = 4.4e-05 +/- 1e-06 seconds.\n",
      "τ = 6.34785817991144e-05 +/- 1.4426950408889634e-06 seconds.\n"
     ]
    }
   ],
   "source": [
    "# Two Capacitors in Series\n",
    "t_half = 0.044/1000 # Seconds\n",
    "err_t_half = 0.001/1000 # Seconds\n",
    "\n",
    "tau = t_half/np.log(2)# Seconds\n",
    "errTau = err_t_half/np.log(2) # Seconds\n",
    "\n",
    "print(\"Two Capacitors in Series:\\n\")\n",
    "print(\"t_half =\",t_half,\"+/-\",err_t_half,\"seconds.\")\n",
    "print(\"τ =\",tau,\"+/-\",errTau,\"seconds.\")"
   ]
  },
  {
   "cell_type": "code",
   "execution_count": 31,
   "metadata": {},
   "outputs": [
    {
     "name": "stdout",
     "output_type": "stream",
     "text": [
      "Finding the Theoretical Values:\n",
      "τ(single) = 9.87e-05 +/- 6.3479396316084036e-06 seconds.\n",
      "τ(Parallel) = 0.0001974 +/- 1.974025329118145e-05 seconds.\n",
      "τ(Series) = 4.935e-05 +/- 6.3479396316084036e-06 seconds.\n"
     ]
    }
   ],
   "source": [
    "# Finding the Theoretical Values\n",
    "R = 9.87e3 # Ohms\n",
    "errR = .005e3 # Ohms\n",
    "\n",
    "C = 10e-9 # Farads\n",
    "errC = 1e-9 # Farads\n",
    "\n",
    "Cp = 2*C\n",
    "errCp = 2*errC\n",
    "\n",
    "Cs = 1/(2/C)\n",
    "errCs = 1/(2/errC)\n",
    "\n",
    "tau1 = R*C\n",
    "errTau1 = rule4(tau, R, errR, 1, C, errC, 1)\n",
    "\n",
    "tau2 = R*Cp\n",
    "errTau2 = rule4(tau2, R, errR, 1, Cp, errCp, 1)\n",
    "\n",
    "tau3 = R*Cs\n",
    "errTau3 = rule4(tau, R, errR, 1, Cs, errCs, 1)\n",
    "\n",
    "print(\"Finding the Theoretical Values:\")\n",
    "print(\"τ(single) =\",   tau1, \"+/-\", errTau1, \"seconds.\")\n",
    "print(\"τ(Parallel) =\", tau2, \"+/-\", errTau2, \"seconds.\")\n",
    "print(\"τ(Series) =\",   tau3, \"+/-\", errTau3, \"seconds.\")"
   ]
  },
  {
   "cell_type": "code",
   "execution_count": null,
   "metadata": {},
   "outputs": [],
   "source": []
  }
 ],
 "metadata": {
  "kernelspec": {
   "display_name": "Python 3",
   "language": "python",
   "name": "python3"
  },
  "language_info": {
   "codemirror_mode": {
    "name": "ipython",
    "version": 3
   },
   "file_extension": ".py",
   "mimetype": "text/x-python",
   "name": "python",
   "nbconvert_exporter": "python",
   "pygments_lexer": "ipython3",
   "version": "3.7.4"
  }
 },
 "nbformat": 4,
 "nbformat_minor": 2
}
